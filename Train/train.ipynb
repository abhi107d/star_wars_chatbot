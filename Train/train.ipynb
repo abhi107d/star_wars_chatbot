{
 "cells": [
  {
   "cell_type": "code",
   "execution_count": 18,
   "metadata": {},
   "outputs": [],
   "source": [
    "import torch\n",
    "import torch.nn as nn\n",
    "import pandas as pd\n",
    "from nltk.tokenize import word_tokenize\n",
    "from torch.utils.data import DataLoader,TensorDataset\n",
    "import torch.nn.functional as f\n",
    "import torch.optim as optim"
   ]
  },
  {
   "cell_type": "code",
   "execution_count": 2,
   "metadata": {},
   "outputs": [],
   "source": [
    "data=pd.read_json('../Data/starwarsintents.json')"
   ]
  },
  {
   "cell_type": "code",
   "execution_count": 3,
   "metadata": {},
   "outputs": [],
   "source": [
    "data=data.to_dict()"
   ]
  },
  {
   "cell_type": "code",
   "execution_count": 4,
   "metadata": {},
   "outputs": [],
   "source": [
    "#create dataset\n",
    "x=[]\n",
    "y=[]\n",
    "for k,i in enumerate(data['intents'].values()):\n",
    "\n",
    "    for j in i['patterns']:\n",
    "        x.append(j)\n",
    "        y.append(k)\n"
   ]
  },
  {
   "cell_type": "code",
   "execution_count": 5,
   "metadata": {},
   "outputs": [],
   "source": [
    "import string\n",
    "vocab = [i.lower() for j in x for i in word_tokenize(j) if i not in string.punctuation]\n",
    "x = [[i.lower() for i in word_tokenize(j) if i not in string.punctuation] for j in x]"
   ]
  },
  {
   "cell_type": "code",
   "execution_count": 6,
   "metadata": {},
   "outputs": [],
   "source": [
    "vocab=sorted(set(vocab))\n",
    "wordindx={}\n",
    "onehotx=[]\n",
    "for i,j in enumerate(vocab):\n",
    "    wordindx[j]=i\n",
    "\n",
    "for i in x:\n",
    "    cont=[]\n",
    "\n",
    "    for j in i:\n",
    "        if j in vocab:   \n",
    "            cont.append(wordindx[j])\n",
    "    cont=torch.tensor(cont)\n",
    "    onehotx.append(cont)\n"
   ]
  },
  {
   "cell_type": "code",
   "execution_count": 19,
   "metadata": {},
   "outputs": [
    {
     "data": {
      "text/plain": [
       "device(type='cuda')"
      ]
     },
     "execution_count": 19,
     "metadata": {},
     "output_type": "execute_result"
    }
   ],
   "source": [
    "device=torch.device('cuda' if torch.cuda.is_available() else 'gpu')\n",
    "device"
   ]
  },
  {
   "cell_type": "code",
   "execution_count": null,
   "metadata": {},
   "outputs": [],
   "source": [
    "y=torch.tensor(y)\n",
    "x=onehotx"
   ]
  },
  {
   "cell_type": "code",
   "execution_count": null,
   "metadata": {},
   "outputs": [],
   "source": [
    "print(len(x),y.shape)\n"
   ]
  },
  {
   "cell_type": "code",
   "execution_count": 10,
   "metadata": {},
   "outputs": [],
   "source": [
    "torch.cuda.empty_cache()\n"
   ]
  },
  {
   "cell_type": "code",
   "execution_count": 11,
   "metadata": {},
   "outputs": [],
   "source": [
    "class RNN(nn.Module):\n",
    "\n",
    "    def __init__(self,embedsize,vocabsize,outputsize):\n",
    "        super(RNN,self).__init__()\n",
    "        self.embd=nn.Embedding(vocabsize,embedsize) #5,embedsize\n",
    "        self.rnn=nn.GRU(embedsize,embedsize,2)\n",
    "        self.l1=nn.Linear(embedsize,outputsize)\n",
    "      \n",
    "     \n",
    "\n",
    "    def forward(self,x):\n",
    "        \n",
    "        x=self.embd(x)\n",
    "        x,_=self.rnn(x)\n",
    "        x=self.l1(x[-1,:])\n",
    "        return x\n",
    "    \n",
    "\n",
    "        "
   ]
  },
  {
   "cell_type": "code",
   "execution_count": 12,
   "metadata": {},
   "outputs": [],
   "source": [
    "embedsize=10\n",
    "opsize=16\n",
    "learningRate=0.001\n",
    "epoch=300\n",
    "vocabsiz=len(vocab)"
   ]
  },
  {
   "cell_type": "code",
   "execution_count": 56,
   "metadata": {},
   "outputs": [],
   "source": [
    "model=RNN(embedsize,vocabsiz,opsize).to(device)\n"
   ]
  },
  {
   "cell_type": "code",
   "execution_count": 14,
   "metadata": {},
   "outputs": [],
   "source": [
    "creteria=nn.CrossEntropyLoss()\n",
    "optmzr=optim.Adam(params=model.parameters(),lr=learningRate)"
   ]
  },
  {
   "cell_type": "code",
   "execution_count": null,
   "metadata": {},
   "outputs": [],
   "source": [
    "model.train() \n",
    "for i in range(epoch): \n",
    "    epoch_loss = 0.0\n",
    "    for idx,xi in enumerate(x):\n",
    "        xi=xi.to(device)\n",
    "        yi=y[idx].to(device)\n",
    "\n",
    "\n",
    "        output=model(xi)\n",
    "        loss=creteria(output,yi)\n",
    "        optmzr.zero_grad()\n",
    "\n",
    "        loss.backward()\n",
    "\n",
    "        optmzr.step()\n",
    "        epoch_loss += loss.item()\n",
    "\n",
    "    print(f\"Epoch {epoch}/{i+1}, Loss: {epoch_loss/len(x):.4f}\")"
   ]
  },
  {
   "cell_type": "code",
   "execution_count": 16,
   "metadata": {},
   "outputs": [],
   "source": [
    "torch.save(model, \"../model/starwars2.pth\")"
   ]
  },
  {
   "cell_type": "code",
   "execution_count": null,
   "metadata": {},
   "outputs": [],
   "source": [
    "model=torch.load(\"../model/starwars.pth\")"
   ]
  },
  {
   "cell_type": "code",
   "execution_count": null,
   "metadata": {},
   "outputs": [],
   "source": [
    "model.eval()\n",
    "ht=None\n",
    "with torch.no_grad():\n",
    "    p=model(torch.tensor([99, 69,  6]).to(device))\n",
    "    print(p)"
   ]
  },
  {
   "cell_type": "code",
   "execution_count": null,
   "metadata": {},
   "outputs": [],
   "source": []
  }
 ],
 "metadata": {
  "kernelspec": {
   "display_name": "Python 3",
   "language": "python",
   "name": "python3"
  },
  "language_info": {
   "codemirror_mode": {
    "name": "ipython",
    "version": 3
   },
   "file_extension": ".py",
   "mimetype": "text/x-python",
   "name": "python",
   "nbconvert_exporter": "python",
   "pygments_lexer": "ipython3",
   "version": "3.11.11"
  }
 },
 "nbformat": 4,
 "nbformat_minor": 2
}
